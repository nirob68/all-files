{
 "cells": [
  {
   "cell_type": "markdown",
   "metadata": {},
   "source": [
    "1. Create the below pattern using nested for loop in Python.\n",
    "answer:(without using list)"
   ]
  },
  {
   "cell_type": "code",
   "execution_count": 1,
   "metadata": {},
   "outputs": [
    {
     "name": "stdout",
     "output_type": "stream",
     "text": [
      "*\n",
      "**\n",
      "***\n",
      "****\n",
      "*****\n",
      "****\n",
      "***\n",
      "**\n",
      "*\n"
     ]
    }
   ],
   "source": [
    "s='*'\n",
    "l=[]\n",
    "j=0\n",
    "n=0\n",
    "for i in range(0,15):\n",
    "    if j<n:\n",
    "        s=s+'*'\n",
    "        j=j+1\n",
    "    else:\n",
    "       \n",
    "        print(s)\n",
    "        s='*'\n",
    "        j=0\n",
    "        n=n+1\n",
    "s='*'\n",
    "l2=[]\n",
    "j=3\n",
    "n=0\n",
    "for i in range(0,10):\n",
    "    if j>n:\n",
    "        s=s+'*'\n",
    "        n=n+1\n",
    "    else:\n",
    "       \n",
    "        print(s)\n",
    "        s='*'\n",
    "        j=j-1\n",
    "        n=0"
   ]
  },
  {
   "cell_type": "markdown",
   "metadata": {},
   "source": [
    "using list:\n"
   ]
  },
  {
   "cell_type": "code",
   "execution_count": 2,
   "metadata": {},
   "outputs": [
    {
     "name": "stdout",
     "output_type": "stream",
     "text": [
      "*\n",
      "**\n",
      "***\n",
      "****\n",
      "*****\n",
      "****\n",
      "***\n",
      "**\n",
      "*\n"
     ]
    }
   ],
   "source": [
    "s='*'\n",
    "l=[]\n",
    "j=0\n",
    "n=0\n",
    "for i in range(0,15):\n",
    "    if j<n:\n",
    "        s=s+'*'\n",
    "        j=j+1\n",
    "    else:\n",
    "       \n",
    "        l.append(s)\n",
    "        s='*'\n",
    "        j=0\n",
    "        n=n+1\n",
    "s='*'\n",
    "l2=[]\n",
    "j=0\n",
    "n=0\n",
    "for i in range(0,10):\n",
    "    if j<n:\n",
    "        s=s+'*'\n",
    "        j=j+1\n",
    "    else:\n",
    "       \n",
    "        l2.append(s)\n",
    "        s='*'\n",
    "        j=0\n",
    "        n=n+1\n",
    "l3=l2[::-1]\n",
    "for i in l:\n",
    "    print(i)\n",
    "for j in l3:\n",
    "    print(j)"
   ]
  },
  {
   "cell_type": "markdown",
   "metadata": {},
   "source": [
    "2. Write a Python program to reverse a word after accepting the input from the user."
   ]
  },
  {
   "cell_type": "code",
   "execution_count": 3,
   "metadata": {},
   "outputs": [
    {
     "name": "stdout",
     "output_type": "stream",
     "text": [
      "Input word: ineuron\n",
      "output:  norueni\n"
     ]
    }
   ],
   "source": [
    "ip=input('Input word: ')\n",
    "k=ip[::-1]\n",
    "print('output: ',k)"
   ]
  },
  {
   "cell_type": "code",
   "execution_count": null,
   "metadata": {},
   "outputs": [],
   "source": []
  }
 ],
 "metadata": {
  "kernelspec": {
   "display_name": "Python 3",
   "language": "python",
   "name": "python3"
  },
  "language_info": {
   "codemirror_mode": {
    "name": "ipython",
    "version": 3
   },
   "file_extension": ".py",
   "mimetype": "text/x-python",
   "name": "python",
   "nbconvert_exporter": "python",
   "pygments_lexer": "ipython3",
   "version": "3.8.3"
  }
 },
 "nbformat": 4,
 "nbformat_minor": 4
}
